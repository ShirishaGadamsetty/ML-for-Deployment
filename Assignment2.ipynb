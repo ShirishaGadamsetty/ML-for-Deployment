{
 "cells": [
  {
   "cell_type": "markdown",
   "metadata": {
    "colab_type": "text",
    "id": "9TAheG8pneDL"
   },
   "source": [
    "# Write a Python program to implement your own myfilter() function which works exactly like Python's built-in function filter()"
   ]
  },
  {
   "cell_type": "code",
   "execution_count": 0,
   "metadata": {
    "colab": {},
    "colab_type": "code",
    "id": "YwwdxWcKpRn9"
   },
   "outputs": [],
   "source": [
    "def myfilter(func,sequence):\n",
    "  result=[]\n",
    "  for i in sequence:\n",
    "    if func(i):\n",
    "      result.append(i)\n",
    "      \n",
    "      \n",
    "  return result      "
   ]
  },
  {
   "cell_type": "code",
   "execution_count": 0,
   "metadata": {
    "colab": {},
    "colab_type": "code",
    "id": "bbCL1t1tpt4u"
   },
   "outputs": [],
   "source": [
    "alphabet = ['a','b','c','d','e']\n",
    "def findVowels(alphabet):\n",
    "    vowels = ['a', 'e', 'i', 'o', 'u']\n",
    "    if(alphabet in vowels):\n",
    "        return True\n",
    "    else:\n",
    "        return False"
   ]
  },
  {
   "cell_type": "code",
   "execution_count": 0,
   "metadata": {
    "colab": {
     "base_uri": "https://localhost:8080/",
     "height": 34
    },
    "colab_type": "code",
    "id": "v3CldzH4qHmX",
    "outputId": "497936d1-7d0b-4232-cbe5-d83d641ec653"
   },
   "outputs": [
    {
     "name": "stdout",
     "output_type": "stream",
     "text": [
      "['a', 'e']\n"
     ]
    }
   ],
   "source": [
    "print(myfilter(findVowels,alphabet ))"
   ]
  },
  {
   "cell_type": "markdown",
   "metadata": {
    "colab_type": "text",
    "id": "keOTl_tBnUQk"
   },
   "source": []
  },
  {
   "cell_type": "markdown",
   "metadata": {
    "colab_type": "text",
    "id": "2vVW6zQ6nUjm"
   },
   "source": [
    "# 1.1 Write a Python Program to implement your own myreduce() function which works exactly like Python's built-in function reduce()"
   ]
  },
  {
   "cell_type": "code",
   "execution_count": 0,
   "metadata": {
    "colab": {},
    "colab_type": "code",
    "id": "ZKjQRXTXzcHH"
   },
   "outputs": [],
   "source": [
    "def myreduce(func , sequence):\n",
    "  result = sequence[0]\n",
    "  for item in sequence[1:]:\n",
    "    result = func(result,item)\n",
    "  return result  "
   ]
  },
  {
   "cell_type": "code",
   "execution_count": 0,
   "metadata": {
    "colab": {},
    "colab_type": "code",
    "id": "ri-qBm55z2BN"
   },
   "outputs": [],
   "source": [
    "def sum (x,y):\n",
    "  return x+y"
   ]
  },
  {
   "cell_type": "code",
   "execution_count": 0,
   "metadata": {
    "colab": {
     "base_uri": "https://localhost:8080/",
     "height": 34
    },
    "colab_type": "code",
    "id": "khNAIDvrz9VE",
    "outputId": "4f7e05b0-c497-4d8f-f20e-8135876444c2"
   },
   "outputs": [
    {
     "name": "stdout",
     "output_type": "stream",
     "text": [
      "10\n"
     ]
    }
   ],
   "source": [
    "print(myreduce(sum,[1,2,3,4]))"
   ]
  },
  {
   "cell_type": "code",
   "execution_count": 0,
   "metadata": {
    "colab": {},
    "colab_type": "code",
    "id": "KLH9-JUs7jxc"
   },
   "outputs": [],
   "source": [
    "S = [x**2 for x in range(10)]\n",
    "V = [2**i for i in range(13)]\n",
    "M = [x for x in S if x % 2 == 0]"
   ]
  },
  {
   "cell_type": "code",
   "execution_count": 0,
   "metadata": {
    "colab": {
     "base_uri": "https://localhost:8080/",
     "height": 34
    },
    "colab_type": "code",
    "id": "APyFIOPT7w1b",
    "outputId": "0a4f6c8f-0e32-47e1-d4dd-57ca00e008f8"
   },
   "outputs": [
    {
     "name": "stdout",
     "output_type": "stream",
     "text": [
      "[0, 1, 4, 9, 16, 25, 36, 49, 64, 81]\n"
     ]
    }
   ],
   "source": [
    "print(S)"
   ]
  },
  {
   "cell_type": "markdown",
   "metadata": {
    "colab_type": "text",
    "id": "pIDWPKrxmIyt"
   },
   "source": []
  },
  {
   "cell_type": "markdown",
   "metadata": {
    "colab_type": "text",
    "id": "BWaFyOQrmKjL"
   },
   "source": [
    "#Write List comprehensions to produce the following Lists\n",
    "['A', 'C', 'A', 'D', 'G', 'I', ’L’, ‘ D’]\n",
    "['x', 'xx', 'xxx', 'xxxx', 'y', 'yy', 'yyy', 'yyyy', 'z', 'zz', 'zzz', 'zzzz']\n",
    "['x', 'y', 'z', 'xx', 'yy', 'zz', 'xx', 'yy', 'zz', 'xxxx', 'yyyy', 'zzzz']\n"
   ]
  },
  {
   "cell_type": "code",
   "execution_count": 0,
   "metadata": {
    "colab": {
     "base_uri": "https://localhost:8080/",
     "height": 34
    },
    "colab_type": "code",
    "id": "KvkSaxIo8oES",
    "outputId": "4e568fc1-d532-4d59-cf91-4dc7a4c1f185"
   },
   "outputs": [
    {
     "data": {
      "text/plain": [
       "['A', 'C', 'A', 'D', 'G', 'I', 'L', 'D']"
      ]
     },
     "execution_count": 92,
     "metadata": {
      "tags": []
     },
     "output_type": "execute_result"
    }
   ],
   "source": [
    "word = \"ACADGILD\"\n",
    "list = [i for i in word]\n",
    "list"
   ]
  },
  {
   "cell_type": "code",
   "execution_count": 0,
   "metadata": {
    "colab": {
     "base_uri": "https://localhost:8080/",
     "height": 51
    },
    "colab_type": "code",
    "id": "G-9kCStk9Mzm",
    "outputId": "518a9635-8eaa-4e45-dacf-10cb2c53d1f4"
   },
   "outputs": [
    {
     "name": "stdout",
     "output_type": "stream",
     "text": [
      "['x', 'xx', 'xxx', 'xxxx', 'y', 'yy', 'yyy', 'yyyy', 'z', 'zz', 'zzz', 'zzzz']\n"
     ]
    },
    {
     "data": {
      "text/plain": [
       "list"
      ]
     },
     "execution_count": 93,
     "metadata": {
      "tags": []
     },
     "output_type": "execute_result"
    }
   ],
   "source": [
    "list = ['x','y','z']\n",
    "\n",
    "list_comp = [char*num for char in list for num in range(1,5)]\n",
    "print(str(list_comp))\n",
    "type(list_comp)"
   ]
  },
  {
   "cell_type": "code",
   "execution_count": 0,
   "metadata": {
    "colab": {
     "base_uri": "https://localhost:8080/",
     "height": 221
    },
    "colab_type": "code",
    "id": "nkeIwuzY-YSH",
    "outputId": "77903a28-43fa-42a5-e0d7-142b1f16b5ef"
   },
   "outputs": [
    {
     "name": "stdout",
     "output_type": "stream",
     "text": [
      "x\n",
      "y\n",
      "z\n",
      "xx\n",
      "yy\n",
      "zz\n",
      "xx\n",
      "yy\n",
      "zz\n",
      "xxxx\n",
      "yyyy\n",
      "zzzz\n"
     ]
    }
   ],
   "source": [
    "list = ['x','y','z']\n",
    "    \n",
    "# list_comp1 = [c*i continue c*i i=i-1 if(i==3) for c in list for num in range(1,5)]\n",
    "        \n",
    "for i in range(1,5):  \n",
    "  for c in list:      \n",
    "    if(i==3):          \n",
    "      i=i-1\n",
    "      print(c*i)\n",
    "      continue\n",
    "    print(c*i)                    \n",
    "        \n",
    "        \n"
   ]
  },
  {
   "cell_type": "code",
   "execution_count": 0,
   "metadata": {
    "colab": {
     "base_uri": "https://localhost:8080/",
     "height": 34
    },
    "colab_type": "code",
    "id": "S7ZbNqEPmhcv",
    "outputId": "0c2a8c88-e7db-4262-be93-cc67da548663"
   },
   "outputs": [
    {
     "data": {
      "text/plain": [
       "['x', 'y', 'z', 'xx', 'yy', 'zz', 'xxx', 'yyy', 'zzz', 'xxxx', 'yyyy', 'zzzz']"
      ]
     },
     "execution_count": 96,
     "metadata": {
      "tags": []
     },
     "output_type": "execute_result"
    }
   ],
   "source": [
    "list = ['x','y','z']\n",
    "list_comp1 = [c*i  for i in range(1,5) for c in list]\n",
    "list_comp1"
   ]
  },
  {
   "cell_type": "code",
   "execution_count": 0,
   "metadata": {
    "colab": {
     "base_uri": "https://localhost:8080/",
     "height": 34
    },
    "colab_type": "code",
    "id": "JPnmhYt8n1N1",
    "outputId": "218eb554-aa78-4640-d1eb-83ccb7961b0e"
   },
   "outputs": [
    {
     "data": {
      "text/plain": [
       "[[2], [3], [4], [3], [4], [5], [4], [5], [6]]"
      ]
     },
     "execution_count": 154,
     "metadata": {
      "tags": []
     },
     "output_type": "execute_result"
    }
   ],
   "source": [
    "result=[]\n",
    "for i in range(2,5):\n",
    "    result.append([i])\n",
    "    for j in range (1,3):\n",
    "      result.append([i+j])\n",
    "    \n",
    "result    \n"
   ]
  },
  {
   "cell_type": "code",
   "execution_count": 0,
   "metadata": {
    "colab": {},
    "colab_type": "code",
    "id": "vkm-IQsm2t69"
   },
   "outputs": [],
   "source": [
    "# list = [[[i] for i in range(2,5) [i+j] ] for j in range (1,3) ]   \n"
   ]
  },
  {
   "cell_type": "code",
   "execution_count": 0,
   "metadata": {
    "colab": {},
    "colab_type": "code",
    "id": "FX-JgBjUrp1_"
   },
   "outputs": [],
   "source": [
    "input_list = [2,3,4]\n",
    "result = [ [item+num] for item in input_list for num in range(0,3)]\n",
    "print(\"[2,3,4] =>\" +  str(result))"
   ]
  },
  {
   "cell_type": "code",
   "execution_count": 0,
   "metadata": {
    "colab": {
     "base_uri": "https://localhost:8080/",
     "height": 34
    },
    "colab_type": "code",
    "id": "B9zzpZQ27HYW",
    "outputId": "30dc6c69-72f8-4415-ea35-9ffc9054ee2b"
   },
   "outputs": [
    {
     "data": {
      "text/plain": [
       "[[2, 3, 4, 5], [3, 4, 5, 6], [4, 5, 6, 7], [5, 6, 7, 8]]"
      ]
     },
     "execution_count": 156,
     "metadata": {
      "tags": []
     },
     "output_type": "execute_result"
    }
   ],
   "source": [
    "list = [ [i,i+1,i+2,i+3] for i in range(2,6) ]\n",
    "list"
   ]
  },
  {
   "cell_type": "code",
   "execution_count": 0,
   "metadata": {
    "colab": {
     "base_uri": "https://localhost:8080/",
     "height": 34
    },
    "colab_type": "code",
    "id": "RdG1_vjC80uP",
    "outputId": "f7253ac1-dc7f-4477-f894-5348b9243e47"
   },
   "outputs": [
    {
     "data": {
      "text/plain": [
       "[(1, 1), (2, 1), (3, 1), (1, 2), (2, 2), (3, 2), (1, 3), (2, 3), (3, 3)]"
      ]
     },
     "execution_count": 165,
     "metadata": {
      "tags": []
     },
     "output_type": "execute_result"
    }
   ],
   "source": [
    "list = [(j,i) for i in range(1,4) for j in range(1,4)]\n",
    "list"
   ]
  },
  {
   "cell_type": "markdown",
   "metadata": {
    "colab_type": "text",
    "id": "wVP6YYZD9tVG"
   },
   "source": [
    "# Implement a function longestWord() that takes a list of words and returns the longest one.\n",
    " "
   ]
  },
  {
   "cell_type": "code",
   "execution_count": 0,
   "metadata": {
    "colab": {
     "base_uri": "https://localhost:8080/",
     "height": 51
    },
    "colab_type": "code",
    "id": "ZXvx0H9X-aSf",
    "outputId": "5d625beb-a7db-43c2-86ab-bb5909408011"
   },
   "outputs": [
    {
     "name": "stdout",
     "output_type": "stream",
     "text": [
      "[1, 2, 2, 4, 4, 6, 7, 15]\n",
      "beautifulperson\n"
     ]
    }
   ],
   "source": [
    "sent = [\"this\",\"is\",\"siri\",\"i\",\"am\",\"always\",\"lovable\",\"beautifulperson\"]\n",
    "len(sent)\n",
    "count = []\n",
    "for i in range(0,len(sent)):\n",
    "    count.append(len(sent[i]))\n",
    "    if count[0]<count[i]:\n",
    "      word = sent[i]\n",
    "      count.sort() \n",
    "print(count)\n",
    "print(word)"
   ]
  },
  {
   "cell_type": "markdown",
   "metadata": {
    "colab_type": "text",
    "id": "Y4iew0gRTV6N"
   },
   "source": [
    "# Write a Python Program(with class concepts) to find the area of the triangle using the below formula.\n",
    "area = (s*(s-a)*(s-b)*(s-c)) ** 0.5\n",
    "Function to take the length of the sides of triangle from user should be defined in the parent\n",
    "class and function to calculate the area should be defined in subclass.\n"
   ]
  },
  {
   "cell_type": "code",
   "execution_count": 0,
   "metadata": {
    "colab": {
     "base_uri": "https://localhost:8080/",
     "height": 85
    },
    "colab_type": "code",
    "id": "ODuI2U8R9rVK",
    "outputId": "85de679e-9643-4663-8002-475000ff8e4f"
   },
   "outputs": [
    {
     "name": "stdout",
     "output_type": "stream",
     "text": [
      "enter the 1st side of triangle2\n",
      "enter the 2nd side of triangle3\n",
      "enter 3rd side of triangle4\n",
      "2.9047375096555625\n"
     ]
    }
   ],
   "source": [
    "class Myclass:\n",
    "  a = float(input(\"enter the 1st side of triangle\"))\n",
    "  b = float(input(\"enter the 2nd side of triangle\"))\n",
    "  c = float(input(\"enter 3rd side of triangle\"))\n",
    "  s=(a+b+c)/2\n",
    "  area = (s*(s-a)*(s-b)*(s-c)) ** 0.5\n",
    "  print(area)  "
   ]
  },
  {
   "cell_type": "code",
   "execution_count": 0,
   "metadata": {
    "colab": {},
    "colab_type": "code",
    "id": "lBxZPD6sF27R"
   },
   "outputs": [],
   "source": [
    "class Myclass():\n",
    "  a = float(input(\"enter the 1st side of triangle\"))\n",
    "  b = float(input(\"enter the 2nd side of triangle\"))\n",
    "  c = float(input(\"enter 3rd side of triangle\"))\n",
    "  \n",
    "  \n",
    "  def __init__(self,a, b,c):\n",
    "        self.a = a\n",
    "        self.b  = b\n",
    "        self.c  = c\n",
    "  def calculate(self):\n",
    "    s=(a+b+c)/2\n",
    "    area = (s*(s-a)*(s-b)*(s-c)) ** 0.5\n",
    "    return area      \n",
    "  \n",
    "areaoftriangle = Myclass(12,13,14)\n",
    "print(self.calculate(self))\n",
    "  \n",
    "    \n",
    "  \n",
    "  \n",
    " \n",
    "    \n",
    "    "
   ]
  },
  {
   "cell_type": "code",
   "execution_count": 1,
   "metadata": {},
   "outputs": [
    {
     "name": "stdout",
     "output_type": "stream",
     "text": [
      "enter a3\n",
      "enter b4\n",
      "enter c5\n"
     ]
    }
   ],
   "source": [
    "class parentclass():\n",
    "  a= float(input(\"enter a\"))\n",
    "  b= float(input(\"enter b\"))\n",
    "  c= float(input(\"enter c\"))"
   ]
  },
  {
   "cell_type": "code",
   "execution_count": 2,
   "metadata": {},
   "outputs": [
    {
     "name": "stdout",
     "output_type": "stream",
     "text": [
      "6.0\n"
     ]
    }
   ],
   "source": [
    "class subclass(parentclass):\n",
    "  a=parentclass.a\n",
    "  b=parentclass.b\n",
    "  c=parentclass.c\n",
    "  s=(a+b+c)/2\n",
    "  area = (s*(s-a)*(s-b)*(s-c)) ** 0.5\n",
    "  print(area)"
   ]
  },
  {
   "cell_type": "markdown",
   "metadata": {
    "colab_type": "text",
    "id": "i1yr5Z_xRLgF"
   },
   "source": [
    "# Write a function filter_long_words() that takes a list of words and an integer n and returns the list of words that are longer than n."
   ]
  },
  {
   "cell_type": "code",
   "execution_count": 13,
   "metadata": {
    "colab": {
     "base_uri": "https://localhost:8080/",
     "height": 51
    },
    "colab_type": "code",
    "id": "d2Oru6boRUCt",
    "outputId": "a503ba3a-64ae-4db1-d9e8-ce98fecba826"
   },
   "outputs": [
    {
     "name": "stdout",
     "output_type": "stream",
     "text": [
      "enter number4\n"
     ]
    },
    {
     "data": {
      "text/plain": [
       "['working', 'globussoft', 'digital', 'marketing', 'associate']"
      ]
     },
     "execution_count": 13,
     "metadata": {
      "tags": []
     },
     "output_type": "execute_result"
    }
   ],
   "source": [
    "wordlist=[\"I\",\"am\",\"working\",\"in\",\"globussoft\",\"as\",\"a\",\"digital\",\"marketing\",\"associate\"]\n",
    "n= int(input(\"enter number\"))\n",
    "list = []\n",
    "for i in range(0,len(wordlist)):\n",
    "  if len(wordlist[i]) > n:\n",
    "    list.append(wordlist[i])\n",
    "list    "
   ]
  },
  {
   "cell_type": "code",
   "execution_count": 0,
   "metadata": {
    "colab": {},
    "colab_type": "code",
    "id": "RZKFQhkxMbqu"
   },
   "outputs": [],
   "source": [
    "def filter_long_words(wordlist1,n):\n",
    "  list = []\n",
    "  for i in range(0,len(wordlist1)):\n",
    "    if len(wordlist1[i]) > n:\n",
    "      list.append(wordlist1[i])\n",
    "  return list  \n",
    "\n",
    "  "
   ]
  },
  {
   "cell_type": "code",
   "execution_count": 26,
   "metadata": {
    "colab": {
     "base_uri": "https://localhost:8080/",
     "height": 51
    },
    "colab_type": "code",
    "id": "WMlp2c1lDI8O",
    "outputId": "13b31b82-3a9c-4fe9-8616-c7965d35223d"
   },
   "outputs": [
    {
     "name": "stdout",
     "output_type": "stream",
     "text": [
      "enter number4\n",
      "['working', 'globussoft', 'digital', 'marketing', 'associate']\n"
     ]
    }
   ],
   "source": [
    "wordlist=[\"I\",\"am\",\"working\",\"in\",\"globussoft\",\"as\",\"a\",\"digital\",\"marketing\",\"associate\"]\n",
    "n= int(input(\"enter number\"))\n",
    "print(filter_long_words(wordlist,n))\n"
   ]
  },
  {
   "cell_type": "markdown",
   "metadata": {
    "colab_type": "text",
    "id": "ZWAVrzWnN6vx"
   },
   "source": [
    "# Write a Python program using function concept that maps list of words into a list of integers representing the lengths of the corresponding words.\n",
    "Hint: If a list [ ab,cde,erty] is passed on to the python function output should come as [2,3,4]\n",
    "Here 2,3 and 4 are the lengths of the words in the list."
   ]
  },
  {
   "cell_type": "code",
   "execution_count": 0,
   "metadata": {
    "colab": {},
    "colab_type": "code",
    "id": "n8qW9l4OO2lh"
   },
   "outputs": [],
   "source": [
    "def word_integer(list):\n",
    "  list1=[]\n",
    "  for i in range(0,len(list)):\n",
    "    list1.append(len(list[i]))\n",
    "  return list1\n",
    "  "
   ]
  },
  {
   "cell_type": "code",
   "execution_count": 36,
   "metadata": {
    "colab": {
     "base_uri": "https://localhost:8080/",
     "height": 34
    },
    "colab_type": "code",
    "id": "aYJsM5NKPF2K",
    "outputId": "9bfbf20e-28ba-41e8-f2b9-8fc2d921ae0f"
   },
   "outputs": [
    {
     "name": "stdout",
     "output_type": "stream",
     "text": [
      "[2, 3, 4, 5]\n"
     ]
    }
   ],
   "source": [
    "list = ['ab','abc','abcd','abcde']\n",
    "print(word_integer(list))"
   ]
  },
  {
   "cell_type": "markdown",
   "metadata": {
    "colab_type": "text",
    "id": "rgbSSBCXQGVp"
   },
   "source": [
    "# Write a Python function which takes a character (i.e. a string of length 1) and returns True if it is a vowel, False otherwise."
   ]
  },
  {
   "cell_type": "code",
   "execution_count": 0,
   "metadata": {
    "colab": {},
    "colab_type": "code",
    "id": "5v9U8PfRRswN"
   },
   "outputs": [],
   "source": [
    "def charfunc(char):\n",
    "  if(char==\"a\" or char==\"e\" or char==\"i\" or char==\"o\" or char==\"u\"):\n",
    "    return True\n",
    "  else:\n",
    "    return False"
   ]
  },
  {
   "cell_type": "code",
   "execution_count": 44,
   "metadata": {
    "colab": {
     "base_uri": "https://localhost:8080/",
     "height": 153
    },
    "colab_type": "code",
    "id": "SIVZISiVSODV",
    "outputId": "ba477a23-239a-4505-d704-d6aa084f91db"
   },
   "outputs": [
    {
     "name": "stdout",
     "output_type": "stream",
     "text": [
      "False\n",
      "False\n",
      "True\n",
      "False\n",
      "True\n",
      "False\n",
      "False\n",
      "True\n"
     ]
    }
   ],
   "source": [
    "str = \"shirisha\"\n",
    "for i in range(0,len(str)):\n",
    "  print(charfunc(str[i]))"
   ]
  }
 ],
 "metadata": {
  "colab": {
   "collapsed_sections": [],
   "name": "Assignment2.ipynb",
   "provenance": []
  },
  "kernelspec": {
   "display_name": "Python 3",
   "language": "python",
   "name": "python3"
  },
  "language_info": {
   "codemirror_mode": {
    "name": "ipython",
    "version": 3
   },
   "file_extension": ".py",
   "mimetype": "text/x-python",
   "name": "python",
   "nbconvert_exporter": "python",
   "pygments_lexer": "ipython3",
   "version": "3.6.5"
  }
 },
 "nbformat": 4,
 "nbformat_minor": 1
}
