{
  "nbformat": 4,
  "nbformat_minor": 0,
  "metadata": {
    "colab": {
      "name": "Assignment2.ipynb",
      "provenance": [],
      "collapsed_sections": []
    },
    "kernelspec": {
      "name": "python3",
      "display_name": "Python 3"
    }
  },
  "cells": [
    {
      "cell_type": "markdown",
      "metadata": {
        "id": "9TAheG8pneDL",
        "colab_type": "text"
      },
      "source": [
        "# Write a Python program to implement your own myfilter() function which works exactly like Python's built-in function filter()"
      ]
    },
    {
      "cell_type": "code",
      "metadata": {
        "id": "YwwdxWcKpRn9",
        "colab_type": "code",
        "colab": {}
      },
      "source": [
        "def myfilter(func,sequence):\n",
        "  result=[]\n",
        "  for i in sequence:\n",
        "    if func(i):\n",
        "      result.append(i)\n",
        "      \n",
        "      \n",
        "  return result      "
      ],
      "execution_count": 0,
      "outputs": []
    },
    {
      "cell_type": "code",
      "metadata": {
        "id": "bbCL1t1tpt4u",
        "colab_type": "code",
        "colab": {}
      },
      "source": [
        "alphabet = ['a','b','c','d','e']\n",
        "def findVowels(alphabet):\n",
        "    vowels = ['a', 'e', 'i', 'o', 'u']\n",
        "    if(alphabet in vowels):\n",
        "        return True\n",
        "    else:\n",
        "        return False"
      ],
      "execution_count": 0,
      "outputs": []
    },
    {
      "cell_type": "code",
      "metadata": {
        "id": "v3CldzH4qHmX",
        "colab_type": "code",
        "outputId": "497936d1-7d0b-4232-cbe5-d83d641ec653",
        "colab": {
          "base_uri": "https://localhost:8080/",
          "height": 34
        }
      },
      "source": [
        "print(myfilter(findVowels,alphabet ))"
      ],
      "execution_count": 0,
      "outputs": [
        {
          "output_type": "stream",
          "text": [
            "['a', 'e']\n"
          ],
          "name": "stdout"
        }
      ]
    },
    {
      "cell_type": "markdown",
      "metadata": {
        "id": "keOTl_tBnUQk",
        "colab_type": "text"
      },
      "source": [
        ""
      ]
    },
    {
      "cell_type": "markdown",
      "metadata": {
        "colab_type": "text",
        "id": "2vVW6zQ6nUjm"
      },
      "source": [
        "# 1.1 Write a Python Program to implement your own myreduce() function which works exactly like Python's built-in function reduce()"
      ]
    },
    {
      "cell_type": "code",
      "metadata": {
        "id": "ZKjQRXTXzcHH",
        "colab_type": "code",
        "colab": {}
      },
      "source": [
        "def myreduce(func , sequence):\n",
        "  result = sequence[0]\n",
        "  for item in sequence[1:]:\n",
        "    result = func(result,item)\n",
        "  return result  "
      ],
      "execution_count": 0,
      "outputs": []
    },
    {
      "cell_type": "code",
      "metadata": {
        "id": "ri-qBm55z2BN",
        "colab_type": "code",
        "colab": {}
      },
      "source": [
        "def sum (x,y):\n",
        "  return x+y"
      ],
      "execution_count": 0,
      "outputs": []
    },
    {
      "cell_type": "code",
      "metadata": {
        "id": "khNAIDvrz9VE",
        "colab_type": "code",
        "outputId": "4f7e05b0-c497-4d8f-f20e-8135876444c2",
        "colab": {
          "base_uri": "https://localhost:8080/",
          "height": 34
        }
      },
      "source": [
        "print(myreduce(sum,[1,2,3,4]))"
      ],
      "execution_count": 0,
      "outputs": [
        {
          "output_type": "stream",
          "text": [
            "10\n"
          ],
          "name": "stdout"
        }
      ]
    },
    {
      "cell_type": "code",
      "metadata": {
        "id": "KLH9-JUs7jxc",
        "colab_type": "code",
        "colab": {}
      },
      "source": [
        "S = [x**2 for x in range(10)]\n",
        "V = [2**i for i in range(13)]\n",
        "M = [x for x in S if x % 2 == 0]"
      ],
      "execution_count": 0,
      "outputs": []
    },
    {
      "cell_type": "code",
      "metadata": {
        "id": "APyFIOPT7w1b",
        "colab_type": "code",
        "outputId": "0a4f6c8f-0e32-47e1-d4dd-57ca00e008f8",
        "colab": {
          "base_uri": "https://localhost:8080/",
          "height": 34
        }
      },
      "source": [
        "print(S)"
      ],
      "execution_count": 0,
      "outputs": [
        {
          "output_type": "stream",
          "text": [
            "[0, 1, 4, 9, 16, 25, 36, 49, 64, 81]\n"
          ],
          "name": "stdout"
        }
      ]
    },
    {
      "cell_type": "markdown",
      "metadata": {
        "id": "pIDWPKrxmIyt",
        "colab_type": "text"
      },
      "source": [
        ""
      ]
    },
    {
      "cell_type": "markdown",
      "metadata": {
        "colab_type": "text",
        "id": "BWaFyOQrmKjL"
      },
      "source": [
        "#Write List comprehensions to produce the following Lists\n",
        "['A', 'C', 'A', 'D', 'G', 'I', ’L’, ‘ D’]\n",
        "['x', 'xx', 'xxx', 'xxxx', 'y', 'yy', 'yyy', 'yyyy', 'z', 'zz', 'zzz', 'zzzz']\n",
        "['x', 'y', 'z', 'xx', 'yy', 'zz', 'xx', 'yy', 'zz', 'xxxx', 'yyyy', 'zzzz']\n"
      ]
    },
    {
      "cell_type": "code",
      "metadata": {
        "id": "KvkSaxIo8oES",
        "colab_type": "code",
        "outputId": "4e568fc1-d532-4d59-cf91-4dc7a4c1f185",
        "colab": {
          "base_uri": "https://localhost:8080/",
          "height": 34
        }
      },
      "source": [
        "word = \"ACADGILD\"\n",
        "list = [i for i in word]\n",
        "list"
      ],
      "execution_count": 0,
      "outputs": [
        {
          "output_type": "execute_result",
          "data": {
            "text/plain": [
              "['A', 'C', 'A', 'D', 'G', 'I', 'L', 'D']"
            ]
          },
          "metadata": {
            "tags": []
          },
          "execution_count": 92
        }
      ]
    },
    {
      "cell_type": "code",
      "metadata": {
        "id": "G-9kCStk9Mzm",
        "colab_type": "code",
        "outputId": "518a9635-8eaa-4e45-dacf-10cb2c53d1f4",
        "colab": {
          "base_uri": "https://localhost:8080/",
          "height": 51
        }
      },
      "source": [
        "list = ['x','y','z']\n",
        "\n",
        "list_comp = [char*num for char in list for num in range(1,5)]\n",
        "print(str(list_comp))\n",
        "type(list_comp)"
      ],
      "execution_count": 0,
      "outputs": [
        {
          "output_type": "stream",
          "text": [
            "['x', 'xx', 'xxx', 'xxxx', 'y', 'yy', 'yyy', 'yyyy', 'z', 'zz', 'zzz', 'zzzz']\n"
          ],
          "name": "stdout"
        },
        {
          "output_type": "execute_result",
          "data": {
            "text/plain": [
              "list"
            ]
          },
          "metadata": {
            "tags": []
          },
          "execution_count": 93
        }
      ]
    },
    {
      "cell_type": "code",
      "metadata": {
        "id": "nkeIwuzY-YSH",
        "colab_type": "code",
        "outputId": "77903a28-43fa-42a5-e0d7-142b1f16b5ef",
        "colab": {
          "base_uri": "https://localhost:8080/",
          "height": 221
        }
      },
      "source": [
        "list = ['x','y','z']\n",
        "    \n",
        "# list_comp1 = [c*i continue c*i i=i-1 if(i==3) for c in list for num in range(1,5)]\n",
        "        \n",
        "for i in range(1,5):  \n",
        "  for c in list:      \n",
        "    if(i==3):          \n",
        "      i=i-1\n",
        "      print(c*i)\n",
        "      continue\n",
        "    print(c*i)                    \n",
        "        \n",
        "        \n"
      ],
      "execution_count": 0,
      "outputs": [
        {
          "output_type": "stream",
          "text": [
            "x\n",
            "y\n",
            "z\n",
            "xx\n",
            "yy\n",
            "zz\n",
            "xx\n",
            "yy\n",
            "zz\n",
            "xxxx\n",
            "yyyy\n",
            "zzzz\n"
          ],
          "name": "stdout"
        }
      ]
    },
    {
      "cell_type": "code",
      "metadata": {
        "id": "S7ZbNqEPmhcv",
        "colab_type": "code",
        "outputId": "0c2a8c88-e7db-4262-be93-cc67da548663",
        "colab": {
          "base_uri": "https://localhost:8080/",
          "height": 34
        }
      },
      "source": [
        "list = ['x','y','z']\n",
        "list_comp1 = [c*i  for i in range(1,5) for c in list]\n",
        "list_comp1"
      ],
      "execution_count": 0,
      "outputs": [
        {
          "output_type": "execute_result",
          "data": {
            "text/plain": [
              "['x', 'y', 'z', 'xx', 'yy', 'zz', 'xxx', 'yyy', 'zzz', 'xxxx', 'yyyy', 'zzzz']"
            ]
          },
          "metadata": {
            "tags": []
          },
          "execution_count": 96
        }
      ]
    },
    {
      "cell_type": "code",
      "metadata": {
        "id": "JPnmhYt8n1N1",
        "colab_type": "code",
        "outputId": "218eb554-aa78-4640-d1eb-83ccb7961b0e",
        "colab": {
          "base_uri": "https://localhost:8080/",
          "height": 34
        }
      },
      "source": [
        "result=[]\n",
        "for i in range(2,5):\n",
        "    result.append([i])\n",
        "    for j in range (1,3):\n",
        "      result.append([i+j])\n",
        "    \n",
        "result    \n"
      ],
      "execution_count": 0,
      "outputs": [
        {
          "output_type": "execute_result",
          "data": {
            "text/plain": [
              "[[2], [3], [4], [3], [4], [5], [4], [5], [6]]"
            ]
          },
          "metadata": {
            "tags": []
          },
          "execution_count": 154
        }
      ]
    },
    {
      "cell_type": "code",
      "metadata": {
        "id": "vkm-IQsm2t69",
        "colab_type": "code",
        "colab": {}
      },
      "source": [
        "# list = [[[i] for i in range(2,5) [i+j] ] for j in range (1,3) ]   \n"
      ],
      "execution_count": 0,
      "outputs": []
    },
    {
      "cell_type": "code",
      "metadata": {
        "id": "FX-JgBjUrp1_",
        "colab_type": "code",
        "colab": {}
      },
      "source": [
        "input_list = [2,3,4]\n",
        "result = [ [item+num] for item in input_list for num in range(0,3)]\n",
        "print(\"[2,3,4] =>\" +  str(result))"
      ],
      "execution_count": 0,
      "outputs": []
    },
    {
      "cell_type": "code",
      "metadata": {
        "id": "B9zzpZQ27HYW",
        "colab_type": "code",
        "outputId": "30dc6c69-72f8-4415-ea35-9ffc9054ee2b",
        "colab": {
          "base_uri": "https://localhost:8080/",
          "height": 34
        }
      },
      "source": [
        "list = [ [i,i+1,i+2,i+3] for i in range(2,6) ]\n",
        "list"
      ],
      "execution_count": 0,
      "outputs": [
        {
          "output_type": "execute_result",
          "data": {
            "text/plain": [
              "[[2, 3, 4, 5], [3, 4, 5, 6], [4, 5, 6, 7], [5, 6, 7, 8]]"
            ]
          },
          "metadata": {
            "tags": []
          },
          "execution_count": 156
        }
      ]
    },
    {
      "cell_type": "code",
      "metadata": {
        "id": "RdG1_vjC80uP",
        "colab_type": "code",
        "outputId": "f7253ac1-dc7f-4477-f894-5348b9243e47",
        "colab": {
          "base_uri": "https://localhost:8080/",
          "height": 34
        }
      },
      "source": [
        "list = [(j,i) for i in range(1,4) for j in range(1,4)]\n",
        "list"
      ],
      "execution_count": 0,
      "outputs": [
        {
          "output_type": "execute_result",
          "data": {
            "text/plain": [
              "[(1, 1), (2, 1), (3, 1), (1, 2), (2, 2), (3, 2), (1, 3), (2, 3), (3, 3)]"
            ]
          },
          "metadata": {
            "tags": []
          },
          "execution_count": 165
        }
      ]
    },
    {
      "cell_type": "markdown",
      "metadata": {
        "id": "wVP6YYZD9tVG",
        "colab_type": "text"
      },
      "source": [
        "# Implement a function longestWord() that takes a list of words and returns the longest one.\n",
        " "
      ]
    },
    {
      "cell_type": "code",
      "metadata": {
        "id": "ZXvx0H9X-aSf",
        "colab_type": "code",
        "outputId": "5d625beb-a7db-43c2-86ab-bb5909408011",
        "colab": {
          "base_uri": "https://localhost:8080/",
          "height": 51
        }
      },
      "source": [
        "sent = [\"this\",\"is\",\"siri\",\"i\",\"am\",\"always\",\"lovable\",\"beautifulperson\"]\n",
        "len(sent)\n",
        "count = []\n",
        "for i in range(0,len(sent)):\n",
        "    count.append(len(sent[i]))\n",
        "    if count[0]<count[i]:\n",
        "      word = sent[i]\n",
        "      count.sort() \n",
        "print(count)\n",
        "print(word)"
      ],
      "execution_count": 0,
      "outputs": [
        {
          "output_type": "stream",
          "text": [
            "[1, 2, 2, 4, 4, 6, 7, 15]\n",
            "beautifulperson\n"
          ],
          "name": "stdout"
        }
      ]
    },
    {
      "cell_type": "markdown",
      "metadata": {
        "id": "Y4iew0gRTV6N",
        "colab_type": "text"
      },
      "source": [
        "# Write a Python Program(with class concepts) to find the area of the triangle using the below formula.\n",
        "area = (s*(s-a)*(s-b)*(s-c)) ** 0.5\n",
        "Function to take the length of the sides of triangle from user should be defined in the parent\n",
        "class and function to calculate the area should be defined in subclass.\n"
      ]
    },
    {
      "cell_type": "code",
      "metadata": {
        "id": "ODuI2U8R9rVK",
        "colab_type": "code",
        "outputId": "85de679e-9643-4663-8002-475000ff8e4f",
        "colab": {
          "base_uri": "https://localhost:8080/",
          "height": 85
        }
      },
      "source": [
        "class Myclass:\n",
        "  a = float(input(\"enter the 1st side of triangle\"))\n",
        "  b = float(input(\"enter the 2nd side of triangle\"))\n",
        "  c = float(input(\"enter 3rd side of triangle\"))\n",
        "  s=(a+b+c)/2\n",
        "  area = (s*(s-a)*(s-b)*(s-c)) ** 0.5\n",
        "  print(area)  "
      ],
      "execution_count": 0,
      "outputs": [
        {
          "output_type": "stream",
          "text": [
            "enter the 1st side of triangle2\n",
            "enter the 2nd side of triangle3\n",
            "enter 3rd side of triangle4\n",
            "2.9047375096555625\n"
          ],
          "name": "stdout"
        }
      ]
    },
    {
      "cell_type": "code",
      "metadata": {
        "id": "lBxZPD6sF27R",
        "colab_type": "code",
        "colab": {}
      },
      "source": [
        "class Myclass():\n",
        "  a = float(input(\"enter the 1st side of triangle\"))\n",
        "  b = float(input(\"enter the 2nd side of triangle\"))\n",
        "  c = float(input(\"enter 3rd side of triangle\"))\n",
        "  \n",
        "  \n",
        "  def __init__(self,a, b,c):\n",
        "        self.a = a\n",
        "        self.b  = b\n",
        "        self.c  = c\n",
        "  def calculate(self):\n",
        "    s=(a+b+c)/2\n",
        "    area = (s*(s-a)*(s-b)*(s-c)) ** 0.5\n",
        "    return area      \n",
        "  \n",
        "areaoftriangle = Myclass(12,13,14)\n",
        "print(self.calculate(self))\n",
        "  \n",
        "    \n",
        "  \n",
        "  \n",
        " \n",
        "    \n",
        "    "
      ],
      "execution_count": 0,
      "outputs": []
    },
    {
      "cell_type": "markdown",
      "metadata": {
        "id": "i1yr5Z_xRLgF",
        "colab_type": "text"
      },
      "source": [
        "# Write a function filter_long_words() that takes a list of words and an integer n and returns the list of words that are longer than n."
      ]
    },
    {
      "cell_type": "code",
      "metadata": {
        "id": "d2Oru6boRUCt",
        "colab_type": "code",
        "colab": {
          "base_uri": "https://localhost:8080/",
          "height": 51
        },
        "outputId": "a503ba3a-64ae-4db1-d9e8-ce98fecba826"
      },
      "source": [
        "wordlist=[\"I\",\"am\",\"working\",\"in\",\"globussoft\",\"as\",\"a\",\"digital\",\"marketing\",\"associate\"]\n",
        "n= int(input(\"enter number\"))\n",
        "list = []\n",
        "for i in range(0,len(wordlist)):\n",
        "  if len(wordlist[i]) > n:\n",
        "    list.append(wordlist[i])\n",
        "list    "
      ],
      "execution_count": 13,
      "outputs": [
        {
          "output_type": "stream",
          "text": [
            "enter number4\n"
          ],
          "name": "stdout"
        },
        {
          "output_type": "execute_result",
          "data": {
            "text/plain": [
              "['working', 'globussoft', 'digital', 'marketing', 'associate']"
            ]
          },
          "metadata": {
            "tags": []
          },
          "execution_count": 13
        }
      ]
    },
    {
      "cell_type": "code",
      "metadata": {
        "id": "RZKFQhkxMbqu",
        "colab_type": "code",
        "colab": {}
      },
      "source": [
        "def filter_long_words(wordlist1,n):\n",
        "  list = []\n",
        "  for i in range(0,len(wordlist1)):\n",
        "    if len(wordlist1[i]) > n:\n",
        "      list.append(wordlist1[i])\n",
        "  return list  \n",
        "\n",
        "  "
      ],
      "execution_count": 0,
      "outputs": []
    },
    {
      "cell_type": "code",
      "metadata": {
        "id": "WMlp2c1lDI8O",
        "colab_type": "code",
        "colab": {
          "base_uri": "https://localhost:8080/",
          "height": 51
        },
        "outputId": "13b31b82-3a9c-4fe9-8616-c7965d35223d"
      },
      "source": [
        "wordlist=[\"I\",\"am\",\"working\",\"in\",\"globussoft\",\"as\",\"a\",\"digital\",\"marketing\",\"associate\"]\n",
        "n= int(input(\"enter number\"))\n",
        "print(filter_long_words(wordlist,n))\n"
      ],
      "execution_count": 26,
      "outputs": [
        {
          "output_type": "stream",
          "text": [
            "enter number4\n",
            "['working', 'globussoft', 'digital', 'marketing', 'associate']\n"
          ],
          "name": "stdout"
        }
      ]
    },
    {
      "cell_type": "markdown",
      "metadata": {
        "id": "ZWAVrzWnN6vx",
        "colab_type": "text"
      },
      "source": [
        "# Write a Python program using function concept that maps list of words into a list of integers representing the lengths of the corresponding words.\n",
        "Hint: If a list [ ab,cde,erty] is passed on to the python function output should come as [2,3,4]\n",
        "Here 2,3 and 4 are the lengths of the words in the list."
      ]
    },
    {
      "cell_type": "code",
      "metadata": {
        "id": "n8qW9l4OO2lh",
        "colab_type": "code",
        "colab": {}
      },
      "source": [
        "def word_integer(list):\n",
        "  list1=[]\n",
        "  for i in range(0,len(list)):\n",
        "    list1.append(len(list[i]))\n",
        "  return list1\n",
        "  "
      ],
      "execution_count": 0,
      "outputs": []
    },
    {
      "cell_type": "code",
      "metadata": {
        "id": "aYJsM5NKPF2K",
        "colab_type": "code",
        "colab": {
          "base_uri": "https://localhost:8080/",
          "height": 34
        },
        "outputId": "9bfbf20e-28ba-41e8-f2b9-8fc2d921ae0f"
      },
      "source": [
        "list = ['ab','abc','abcd','abcde']\n",
        "print(word_integer(list))"
      ],
      "execution_count": 36,
      "outputs": [
        {
          "output_type": "stream",
          "text": [
            "[2, 3, 4, 5]\n"
          ],
          "name": "stdout"
        }
      ]
    },
    {
      "cell_type": "markdown",
      "metadata": {
        "id": "rgbSSBCXQGVp",
        "colab_type": "text"
      },
      "source": [
        "# Write a Python function which takes a character (i.e. a string of length 1) and returns True if it is a vowel, False otherwise."
      ]
    },
    {
      "cell_type": "code",
      "metadata": {
        "id": "5v9U8PfRRswN",
        "colab_type": "code",
        "colab": {}
      },
      "source": [
        "def charfunc(char):\n",
        "  if(char==\"a\" or char==\"e\" or char==\"i\" or char==\"o\" or char==\"u\"):\n",
        "    return True\n",
        "  else:\n",
        "    return False"
      ],
      "execution_count": 0,
      "outputs": []
    },
    {
      "cell_type": "code",
      "metadata": {
        "id": "SIVZISiVSODV",
        "colab_type": "code",
        "colab": {
          "base_uri": "https://localhost:8080/",
          "height": 153
        },
        "outputId": "ba477a23-239a-4505-d704-d6aa084f91db"
      },
      "source": [
        "str = \"shirisha\"\n",
        "for i in range(0,len(str)):\n",
        "  print(charfunc(str[i]))"
      ],
      "execution_count": 44,
      "outputs": [
        {
          "output_type": "stream",
          "text": [
            "False\n",
            "False\n",
            "True\n",
            "False\n",
            "True\n",
            "False\n",
            "False\n",
            "True\n"
          ],
          "name": "stdout"
        }
      ]
    }
  ]
}