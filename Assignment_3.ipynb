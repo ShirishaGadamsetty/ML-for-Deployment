{
  "nbformat": 4,
  "nbformat_minor": 0,
  "metadata": {
    "colab": {
      "name": "Assignment 3",
      "provenance": []
    },
    "kernelspec": {
      "name": "python3",
      "display_name": "Python 3"
    }
  },
  "cells": [
    {
      "cell_type": "markdown",
      "metadata": {
        "id": "jUJPXyyQYoQc",
        "colab_type": "text"
      },
      "source": [
        "# Write a function to compute 5/0 and use try/except to catch the exceptions."
      ]
    },
    {
      "cell_type": "code",
      "metadata": {
        "id": "y5cG08hlYh6v",
        "colab_type": "code",
        "colab": {}
      },
      "source": [
        "def deviding(x,y):\n",
        "  try:\n",
        "    result=x/y\n",
        "    print(\"your division result is\",result)\n",
        "  except ZeroDivisionError:\n",
        "    print(\"your diving with zero choose another number\")"
      ],
      "execution_count": 0,
      "outputs": []
    },
    {
      "cell_type": "code",
      "metadata": {
        "id": "TWYFp3CtZPQn",
        "colab_type": "code",
        "outputId": "24561214-55c6-4a2d-c028-a12ce3a46c50",
        "colab": {
          "base_uri": "https://localhost:8080/",
          "height": 34
        }
      },
      "source": [
        "deviding(3,0)"
      ],
      "execution_count": 0,
      "outputs": [
        {
          "output_type": "stream",
          "text": [
            "your diving with zero choose another number\n"
          ],
          "name": "stdout"
        }
      ]
    },
    {
      "cell_type": "markdown",
      "metadata": {
        "id": "WI-wNGitbhuB",
        "colab_type": "text"
      },
      "source": [
        "# Implement a Python program to generate all sentences where subject is in [\"Americans\",\"Indians\"] and verb is in [\"Play\", \"watch\"] and the object is in [\"Baseball\",\"cricket\"].\n",
        "Hint: Subject,Verb and Object should be declared in the program as shown below.\n",
        "subjects=[\"Americans \",\"Indians\"]\n",
        "verbs=[\"play\",\"watch\"]\n",
        "objects=[\"Baseball\",\"Cricket\"]\n"
      ]
    },
    {
      "cell_type": "code",
      "metadata": {
        "id": "jd6JH58bZe2O",
        "colab_type": "code",
        "colab": {}
      },
      "source": [
        "subject = [\"Americans\",\"Indians\"]  \n",
        "verb = [\"Play\", \"watch\"] \n",
        "obj = [\"Baseball\",\"cricket\"]"
      ],
      "execution_count": 0,
      "outputs": []
    },
    {
      "cell_type": "code",
      "metadata": {
        "id": "53yKstr1aB-g",
        "colab_type": "code",
        "outputId": "7dc3296f-ce8c-431a-dead-d90d4b6d8e61",
        "colab": {
          "base_uri": "https://localhost:8080/",
          "height": 153
        }
      },
      "source": [
        "for i in range(0,len(subject)):\n",
        "  for j in range(0,len(verb)):\n",
        "    for k in range(0,len(obj)):\n",
        "      print(subject[i] +\" \" +verb[j] + \" \"+obj[k])"
      ],
      "execution_count": 0,
      "outputs": [
        {
          "output_type": "stream",
          "text": [
            "Americans Play Baseball\n",
            "Americans Play cricket\n",
            "Americans watch Baseball\n",
            "Americans watch cricket\n",
            "Indians Play Baseball\n",
            "Indians Play cricket\n",
            "Indians watch Baseball\n",
            "Indians watch cricket\n"
          ],
          "name": "stdout"
        }
      ]
    },
    {
      "cell_type": "markdown",
      "metadata": {
        "id": "h-3JlkJWhosC",
        "colab_type": "text"
      },
      "source": [
        "# Write a function so that the columns of the output matrix are powers of the input vector.\n",
        "The order of the powers is determined by the increasing boolean argument. Specifically, when increasing is False, the i-th output column is the input vector raised element-wise to the power of N - i - 1.\n"
      ]
    },
    {
      "cell_type": "code",
      "metadata": {
        "id": "_n6n0OjZb4kX",
        "colab_type": "code",
        "outputId": "454e81a7-67c8-4d77-f47b-c1475e6f69d6",
        "colab": {
          "base_uri": "https://localhost:8080/",
          "height": 85
        }
      },
      "source": [
        "import numpy as np\n",
        "x = np.array([1, 2, 3, 5])\n",
        "np.vander(x)"
      ],
      "execution_count": 0,
      "outputs": [
        {
          "output_type": "execute_result",
          "data": {
            "text/plain": [
              "array([[  1,   1,   1,   1],\n",
              "       [  8,   4,   2,   1],\n",
              "       [ 27,   9,   3,   1],\n",
              "       [125,  25,   5,   1]])"
            ]
          },
          "metadata": {
            "tags": []
          },
          "execution_count": 3
        }
      ]
    },
    {
      "cell_type": "code",
      "metadata": {
        "id": "RF5zfa0RbZJv",
        "colab_type": "code",
        "outputId": "4154b16c-a594-41f2-a249-aec21ae71b2a",
        "colab": {
          "base_uri": "https://localhost:8080/",
          "height": 85
        }
      },
      "source": [
        "np.vander(x, increasing=True)"
      ],
      "execution_count": 0,
      "outputs": [
        {
          "output_type": "execute_result",
          "data": {
            "text/plain": [
              "array([[  1,   1,   1,   1],\n",
              "       [  1,   2,   4,   8],\n",
              "       [  1,   3,   9,  27],\n",
              "       [  1,   5,  25, 125]])"
            ]
          },
          "metadata": {
            "tags": []
          },
          "execution_count": 4
        }
      ]
    },
    {
      "cell_type": "code",
      "metadata": {
        "id": "8i5RfU6Dikeh",
        "colab_type": "code",
        "outputId": "458a7445-ceda-46ee-ef59-20d89327a228",
        "colab": {
          "base_uri": "https://localhost:8080/",
          "height": 85
        }
      },
      "source": [
        "N=3\n",
        "np.column_stack([x**(N-1-i) for i in range(N)])"
      ],
      "execution_count": 0,
      "outputs": [
        {
          "output_type": "execute_result",
          "data": {
            "text/plain": [
              "array([[ 1,  1,  1],\n",
              "       [ 4,  2,  1],\n",
              "       [ 9,  3,  1],\n",
              "       [25,  5,  1]])"
            ]
          },
          "metadata": {
            "tags": []
          },
          "execution_count": 6
        }
      ]
    },
    {
      "cell_type": "code",
      "metadata": {
        "id": "Y91JdwYzjApK",
        "colab_type": "code",
        "outputId": "703890d4-737c-4842-a3c2-c2140ad9c076",
        "colab": {
          "base_uri": "https://localhost:8080/",
          "height": 85
        }
      },
      "source": [
        "np.vander(x, N)"
      ],
      "execution_count": 0,
      "outputs": [
        {
          "output_type": "execute_result",
          "data": {
            "text/plain": [
              "array([[ 1,  1,  1],\n",
              "       [ 4,  2,  1],\n",
              "       [ 9,  3,  1],\n",
              "       [25,  5,  1]])"
            ]
          },
          "metadata": {
            "tags": []
          },
          "execution_count": 7
        }
      ]
    },
    {
      "cell_type": "code",
      "metadata": {
        "id": "XoY5IBKEm_GY",
        "colab_type": "code",
        "outputId": "50fdf0b2-500d-4873-b4be-27861e74fc06",
        "colab": {
          "base_uri": "https://localhost:8080/",
          "height": 51
        }
      },
      "source": [
        "power = int(input(\"enter power\"))\n",
        "\n",
        "list = [1,2,3,4]\n",
        "mat =[]\n",
        "j=1\n",
        "for i in list:\n",
        "  for n in range((power-1),0 ,-1):\n",
        "    mat.append(i**n)\n",
        "  mat.append(j)\n",
        "   \n",
        "mat\n",
        "  "
      ],
      "execution_count": 0,
      "outputs": [
        {
          "output_type": "stream",
          "text": [
            "enter power4\n"
          ],
          "name": "stdout"
        },
        {
          "output_type": "execute_result",
          "data": {
            "text/plain": [
              "[1, 1, 1, 1, 8, 4, 2, 1, 27, 9, 3, 1, 64, 16, 4, 1]"
            ]
          },
          "metadata": {
            "tags": []
          },
          "execution_count": 1
        }
      ]
    },
    {
      "cell_type": "code",
      "metadata": {
        "id": "QBoa6-rQ0NXO",
        "colab_type": "code",
        "outputId": "daeedad5-3f22-4d97-abd8-dc3648faac2e",
        "colab": {
          "base_uri": "https://localhost:8080/",
          "height": 34
        }
      },
      "source": [
        "\n",
        "def createMatrix(rowCount, colCount, dataList):\n",
        "    mat = []\n",
        "    for i in range(rowCount):\n",
        "        rowList = []\n",
        "        for j in range(colCount):\n",
        "            # you need to increment through dataList here, like this:\n",
        "            rowList.append(dataList[rowCount * i + j])\n",
        "        mat.append(rowList)\n",
        "\n",
        "    return mat\n",
        "\n",
        "def main():\n",
        "    mat\n",
        "    mat1 = createMatrix(len(list),power,mat)\n",
        "    print(mat1,end=\"\\n\")\n",
        "\n",
        "main()"
      ],
      "execution_count": 0,
      "outputs": [
        {
          "output_type": "stream",
          "text": [
            "[[1, 1, 1, 1], [8, 4, 2, 1], [27, 9, 3, 1], [64, 16, 4, 1]]\n"
          ],
          "name": "stdout"
        }
      ]
    }
  ]
}